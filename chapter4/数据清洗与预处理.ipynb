{
 "cells": [
  {
   "cell_type": "code",
   "execution_count": 42,
   "metadata": {},
   "outputs": [],
   "source": [
    "import os\n",
    "import pandas as pd\n",
    "import numpy as np\n",
    "import time\n",
    "import datetime\n",
    "import missingno as msno\n",
    "import warnings\n",
    "warnings.filterwarnings('ignore')\n",
    "import matplotlib.pyplot as plt\n",
    "import matplotlib\n",
    "matplotlib.rcParams['font.sans-serif']=['SiHei']\n",
    "matplotlib.rcParams['axes.unicode_minus']=False"
   ]
  },
  {
   "cell_type": "code",
   "execution_count": 10,
   "metadata": {},
   "outputs": [],
   "source": [
    "def data_read(data_path, file_name):\n",
    "    '''\n",
    "    获取数据集\n",
    "    将标签有1,2转成0,1\n",
    "    0表示好用户，1表示坏用户\n",
    "    '''\n",
    "    df = pd.read_csv(os.path.join(data_path, file_name), delim_whitespace=True, header=None)\n",
    "     ##变量重命名\n",
    "    columns = ['status_account','duration','credit_history','purpose', 'amount',\n",
    "               'svaing_account', 'present_emp', 'income_rate', 'personal_status',\n",
    "               'other_debtors', 'residence_info', 'property', 'age',\n",
    "               'inst_plans', 'housing', 'num_credits',\n",
    "               'job', 'dependents', 'telephone', 'foreign_worker', 'target']\n",
    "    df.columns = columns\n",
    "    df.target = df.target - 1\n",
    "    \n",
    "    return df"
   ]
  },
  {
   "cell_type": "markdown",
   "metadata": {},
   "source": [
    "### 读取数据"
   ]
  },
  {
   "cell_type": "code",
   "execution_count": 20,
   "metadata": {},
   "outputs": [],
   "source": [
    "# path = 'D:\\\\Repositories\\\\financial_big_data_risk_control_modeling_practice\\\\chapter4'\n",
    "path = ''\n",
    "file_name = 'german.csv'\n",
    "\n",
    "df = data_read(path, file_name)"
   ]
  },
  {
   "cell_type": "code",
   "execution_count": 21,
   "metadata": {},
   "outputs": [
    {
     "data": {
      "text/html": [
       "<div>\n",
       "<style scoped>\n",
       "    .dataframe tbody tr th:only-of-type {\n",
       "        vertical-align: middle;\n",
       "    }\n",
       "\n",
       "    .dataframe tbody tr th {\n",
       "        vertical-align: top;\n",
       "    }\n",
       "\n",
       "    .dataframe thead th {\n",
       "        text-align: right;\n",
       "    }\n",
       "</style>\n",
       "<table border=\"1\" class=\"dataframe\">\n",
       "  <thead>\n",
       "    <tr style=\"text-align: right;\">\n",
       "      <th></th>\n",
       "      <th>status_account</th>\n",
       "      <th>duration</th>\n",
       "      <th>credit_history</th>\n",
       "      <th>purpose</th>\n",
       "      <th>amount</th>\n",
       "      <th>svaing_account</th>\n",
       "      <th>present_emp</th>\n",
       "      <th>income_rate</th>\n",
       "      <th>personal_status</th>\n",
       "      <th>other_debtors</th>\n",
       "      <th>...</th>\n",
       "      <th>property</th>\n",
       "      <th>age</th>\n",
       "      <th>inst_plans</th>\n",
       "      <th>housing</th>\n",
       "      <th>num_credits</th>\n",
       "      <th>job</th>\n",
       "      <th>dependents</th>\n",
       "      <th>telephone</th>\n",
       "      <th>foreign_worker</th>\n",
       "      <th>target</th>\n",
       "    </tr>\n",
       "  </thead>\n",
       "  <tbody>\n",
       "    <tr>\n",
       "      <th>0</th>\n",
       "      <td>A11</td>\n",
       "      <td>6</td>\n",
       "      <td>A34</td>\n",
       "      <td>A43</td>\n",
       "      <td>1169</td>\n",
       "      <td>A65</td>\n",
       "      <td>A75</td>\n",
       "      <td>4</td>\n",
       "      <td>A93</td>\n",
       "      <td>A101</td>\n",
       "      <td>...</td>\n",
       "      <td>A121</td>\n",
       "      <td>67</td>\n",
       "      <td>A143</td>\n",
       "      <td>A152</td>\n",
       "      <td>2</td>\n",
       "      <td>A173</td>\n",
       "      <td>1</td>\n",
       "      <td>A192</td>\n",
       "      <td>A201</td>\n",
       "      <td>0</td>\n",
       "    </tr>\n",
       "    <tr>\n",
       "      <th>1</th>\n",
       "      <td>A12</td>\n",
       "      <td>48</td>\n",
       "      <td>A32</td>\n",
       "      <td>A43</td>\n",
       "      <td>5951</td>\n",
       "      <td>A61</td>\n",
       "      <td>A73</td>\n",
       "      <td>2</td>\n",
       "      <td>A92</td>\n",
       "      <td>A101</td>\n",
       "      <td>...</td>\n",
       "      <td>A121</td>\n",
       "      <td>22</td>\n",
       "      <td>A143</td>\n",
       "      <td>A152</td>\n",
       "      <td>1</td>\n",
       "      <td>A173</td>\n",
       "      <td>1</td>\n",
       "      <td>A191</td>\n",
       "      <td>A201</td>\n",
       "      <td>1</td>\n",
       "    </tr>\n",
       "    <tr>\n",
       "      <th>2</th>\n",
       "      <td>A14</td>\n",
       "      <td>12</td>\n",
       "      <td>A34</td>\n",
       "      <td>A46</td>\n",
       "      <td>2096</td>\n",
       "      <td>A61</td>\n",
       "      <td>A74</td>\n",
       "      <td>2</td>\n",
       "      <td>A93</td>\n",
       "      <td>A101</td>\n",
       "      <td>...</td>\n",
       "      <td>A121</td>\n",
       "      <td>49</td>\n",
       "      <td>A143</td>\n",
       "      <td>A152</td>\n",
       "      <td>1</td>\n",
       "      <td>A172</td>\n",
       "      <td>2</td>\n",
       "      <td>A191</td>\n",
       "      <td>A201</td>\n",
       "      <td>0</td>\n",
       "    </tr>\n",
       "    <tr>\n",
       "      <th>3</th>\n",
       "      <td>A11</td>\n",
       "      <td>42</td>\n",
       "      <td>A32</td>\n",
       "      <td>A42</td>\n",
       "      <td>7882</td>\n",
       "      <td>A61</td>\n",
       "      <td>A74</td>\n",
       "      <td>2</td>\n",
       "      <td>A93</td>\n",
       "      <td>A103</td>\n",
       "      <td>...</td>\n",
       "      <td>A122</td>\n",
       "      <td>45</td>\n",
       "      <td>A143</td>\n",
       "      <td>A153</td>\n",
       "      <td>1</td>\n",
       "      <td>A173</td>\n",
       "      <td>2</td>\n",
       "      <td>A191</td>\n",
       "      <td>A201</td>\n",
       "      <td>0</td>\n",
       "    </tr>\n",
       "    <tr>\n",
       "      <th>4</th>\n",
       "      <td>A11</td>\n",
       "      <td>24</td>\n",
       "      <td>A33</td>\n",
       "      <td>A40</td>\n",
       "      <td>4870</td>\n",
       "      <td>A61</td>\n",
       "      <td>A73</td>\n",
       "      <td>3</td>\n",
       "      <td>A93</td>\n",
       "      <td>A101</td>\n",
       "      <td>...</td>\n",
       "      <td>A124</td>\n",
       "      <td>53</td>\n",
       "      <td>A143</td>\n",
       "      <td>A153</td>\n",
       "      <td>2</td>\n",
       "      <td>A173</td>\n",
       "      <td>2</td>\n",
       "      <td>A191</td>\n",
       "      <td>A201</td>\n",
       "      <td>1</td>\n",
       "    </tr>\n",
       "  </tbody>\n",
       "</table>\n",
       "<p>5 rows × 21 columns</p>\n",
       "</div>"
      ],
      "text/plain": [
       "  status_account  duration credit_history purpose  amount svaing_account  \\\n",
       "0            A11         6            A34     A43    1169            A65   \n",
       "1            A12        48            A32     A43    5951            A61   \n",
       "2            A14        12            A34     A46    2096            A61   \n",
       "3            A11        42            A32     A42    7882            A61   \n",
       "4            A11        24            A33     A40    4870            A61   \n",
       "\n",
       "  present_emp  income_rate personal_status other_debtors  ...  property age  \\\n",
       "0         A75            4             A93          A101  ...      A121  67   \n",
       "1         A73            2             A92          A101  ...      A121  22   \n",
       "2         A74            2             A93          A101  ...      A121  49   \n",
       "3         A74            2             A93          A103  ...      A122  45   \n",
       "4         A73            3             A93          A101  ...      A124  53   \n",
       "\n",
       "   inst_plans housing num_credits   job dependents  telephone foreign_worker  \\\n",
       "0        A143    A152           2  A173          1       A192           A201   \n",
       "1        A143    A152           1  A173          1       A191           A201   \n",
       "2        A143    A152           1  A172          2       A191           A201   \n",
       "3        A143    A153           1  A173          2       A191           A201   \n",
       "4        A143    A153           2  A173          2       A191           A201   \n",
       "\n",
       "  target  \n",
       "0      0  \n",
       "1      1  \n",
       "2      0  \n",
       "3      0  \n",
       "4      1  \n",
       "\n",
       "[5 rows x 21 columns]"
      ]
     },
     "execution_count": 21,
     "metadata": {},
     "output_type": "execute_result"
    }
   ],
   "source": [
    "df.head()"
   ]
  },
  {
   "cell_type": "code",
   "execution_count": 8,
   "metadata": {},
   "outputs": [],
   "source": [
    "def category_continue_separation(df, feature_names):\n",
    "    '''\n",
    "    将数据列以连续变量和非连续变量分开\n",
    "    '''\n",
    "    category_var = []\n",
    "    numerical_var = []\n",
    "    if 'target' in feature_names:\n",
    "        feature_names.remove('target')\n",
    "    \n",
    "    numerical_var = list(df[feature_names].select_dtypes(include=['int','float','int32','float32','int64','float64']).columns.values)\n",
    "    category_var = [x for x in feature_names if x not in numerical_var]\n",
    "    \n",
    "    return category_var, numerical_var"
   ]
  },
  {
   "cell_type": "code",
   "execution_count": 22,
   "metadata": {},
   "outputs": [],
   "source": [
    "feature_names = list(df.columns)"
   ]
  },
  {
   "cell_type": "code",
   "execution_count": 23,
   "metadata": {},
   "outputs": [
    {
     "data": {
      "text/plain": [
       "['status_account',\n",
       " 'duration',\n",
       " 'credit_history',\n",
       " 'purpose',\n",
       " 'amount',\n",
       " 'svaing_account',\n",
       " 'present_emp',\n",
       " 'income_rate',\n",
       " 'personal_status',\n",
       " 'other_debtors',\n",
       " 'residence_info',\n",
       " 'property',\n",
       " 'age',\n",
       " 'inst_plans',\n",
       " 'housing',\n",
       " 'num_credits',\n",
       " 'job',\n",
       " 'dependents',\n",
       " 'telephone',\n",
       " 'foreign_worker',\n",
       " 'target']"
      ]
     },
     "execution_count": 23,
     "metadata": {},
     "output_type": "execute_result"
    }
   ],
   "source": [
    "feature_names"
   ]
  },
  {
   "cell_type": "code",
   "execution_count": 24,
   "metadata": {},
   "outputs": [],
   "source": [
    "feature_names.remove('target')"
   ]
  },
  {
   "cell_type": "code",
   "execution_count": 25,
   "metadata": {},
   "outputs": [],
   "source": [
    "# 分开连续变量和非连续变量\n",
    "categorical_var, numerical_var = category_continue_separation(df,feature_names)"
   ]
  },
  {
   "cell_type": "code",
   "execution_count": 26,
   "metadata": {},
   "outputs": [
    {
     "data": {
      "text/html": [
       "<div>\n",
       "<style scoped>\n",
       "    .dataframe tbody tr th:only-of-type {\n",
       "        vertical-align: middle;\n",
       "    }\n",
       "\n",
       "    .dataframe tbody tr th {\n",
       "        vertical-align: top;\n",
       "    }\n",
       "\n",
       "    .dataframe thead th {\n",
       "        text-align: right;\n",
       "    }\n",
       "</style>\n",
       "<table border=\"1\" class=\"dataframe\">\n",
       "  <thead>\n",
       "    <tr style=\"text-align: right;\">\n",
       "      <th></th>\n",
       "      <th>duration</th>\n",
       "      <th>amount</th>\n",
       "      <th>income_rate</th>\n",
       "      <th>residence_info</th>\n",
       "      <th>age</th>\n",
       "      <th>num_credits</th>\n",
       "      <th>dependents</th>\n",
       "      <th>target</th>\n",
       "    </tr>\n",
       "  </thead>\n",
       "  <tbody>\n",
       "    <tr>\n",
       "      <th>count</th>\n",
       "      <td>1000.000000</td>\n",
       "      <td>1000.000000</td>\n",
       "      <td>1000.000000</td>\n",
       "      <td>1000.000000</td>\n",
       "      <td>1000.000000</td>\n",
       "      <td>1000.000000</td>\n",
       "      <td>1000.000000</td>\n",
       "      <td>1000.000000</td>\n",
       "    </tr>\n",
       "    <tr>\n",
       "      <th>mean</th>\n",
       "      <td>20.903000</td>\n",
       "      <td>3271.258000</td>\n",
       "      <td>2.973000</td>\n",
       "      <td>2.845000</td>\n",
       "      <td>35.546000</td>\n",
       "      <td>1.407000</td>\n",
       "      <td>1.155000</td>\n",
       "      <td>0.300000</td>\n",
       "    </tr>\n",
       "    <tr>\n",
       "      <th>std</th>\n",
       "      <td>12.058814</td>\n",
       "      <td>2822.736876</td>\n",
       "      <td>1.118715</td>\n",
       "      <td>1.103718</td>\n",
       "      <td>11.375469</td>\n",
       "      <td>0.577654</td>\n",
       "      <td>0.362086</td>\n",
       "      <td>0.458487</td>\n",
       "    </tr>\n",
       "    <tr>\n",
       "      <th>min</th>\n",
       "      <td>4.000000</td>\n",
       "      <td>250.000000</td>\n",
       "      <td>1.000000</td>\n",
       "      <td>1.000000</td>\n",
       "      <td>19.000000</td>\n",
       "      <td>1.000000</td>\n",
       "      <td>1.000000</td>\n",
       "      <td>0.000000</td>\n",
       "    </tr>\n",
       "    <tr>\n",
       "      <th>25%</th>\n",
       "      <td>12.000000</td>\n",
       "      <td>1365.500000</td>\n",
       "      <td>2.000000</td>\n",
       "      <td>2.000000</td>\n",
       "      <td>27.000000</td>\n",
       "      <td>1.000000</td>\n",
       "      <td>1.000000</td>\n",
       "      <td>0.000000</td>\n",
       "    </tr>\n",
       "    <tr>\n",
       "      <th>50%</th>\n",
       "      <td>18.000000</td>\n",
       "      <td>2319.500000</td>\n",
       "      <td>3.000000</td>\n",
       "      <td>3.000000</td>\n",
       "      <td>33.000000</td>\n",
       "      <td>1.000000</td>\n",
       "      <td>1.000000</td>\n",
       "      <td>0.000000</td>\n",
       "    </tr>\n",
       "    <tr>\n",
       "      <th>75%</th>\n",
       "      <td>24.000000</td>\n",
       "      <td>3972.250000</td>\n",
       "      <td>4.000000</td>\n",
       "      <td>4.000000</td>\n",
       "      <td>42.000000</td>\n",
       "      <td>2.000000</td>\n",
       "      <td>1.000000</td>\n",
       "      <td>1.000000</td>\n",
       "    </tr>\n",
       "    <tr>\n",
       "      <th>max</th>\n",
       "      <td>72.000000</td>\n",
       "      <td>18424.000000</td>\n",
       "      <td>4.000000</td>\n",
       "      <td>4.000000</td>\n",
       "      <td>75.000000</td>\n",
       "      <td>4.000000</td>\n",
       "      <td>2.000000</td>\n",
       "      <td>1.000000</td>\n",
       "    </tr>\n",
       "  </tbody>\n",
       "</table>\n",
       "</div>"
      ],
      "text/plain": [
       "          duration        amount  income_rate  residence_info          age  \\\n",
       "count  1000.000000   1000.000000  1000.000000     1000.000000  1000.000000   \n",
       "mean     20.903000   3271.258000     2.973000        2.845000    35.546000   \n",
       "std      12.058814   2822.736876     1.118715        1.103718    11.375469   \n",
       "min       4.000000    250.000000     1.000000        1.000000    19.000000   \n",
       "25%      12.000000   1365.500000     2.000000        2.000000    27.000000   \n",
       "50%      18.000000   2319.500000     3.000000        3.000000    33.000000   \n",
       "75%      24.000000   3972.250000     4.000000        4.000000    42.000000   \n",
       "max      72.000000  18424.000000     4.000000        4.000000    75.000000   \n",
       "\n",
       "       num_credits   dependents       target  \n",
       "count  1000.000000  1000.000000  1000.000000  \n",
       "mean      1.407000     1.155000     0.300000  \n",
       "std       0.577654     0.362086     0.458487  \n",
       "min       1.000000     1.000000     0.000000  \n",
       "25%       1.000000     1.000000     0.000000  \n",
       "50%       1.000000     1.000000     0.000000  \n",
       "75%       2.000000     1.000000     1.000000  \n",
       "max       4.000000     2.000000     1.000000  "
      ]
     },
     "execution_count": 26,
     "metadata": {},
     "output_type": "execute_result"
    }
   ],
   "source": [
    "df.describe()"
   ]
  },
  {
   "cell_type": "markdown",
   "metadata": {},
   "source": [
    "### 数据清洗-注入脏数据"
   ]
  },
  {
   "cell_type": "code",
   "execution_count": 11,
   "metadata": {},
   "outputs": [],
   "source": [
    "def add_str(x):\n",
    "    '''\n",
    "    为x随机添加一个字符\n",
    "    '''\n",
    "    str_1 = ['%',' ','/t','$',';','@']\n",
    "    str_2 = str_1[np.random.randint(0,high=len(str_1)-1)]\n",
    "    \n",
    "    return x + str_2"
   ]
  },
  {
   "cell_type": "code",
   "execution_count": 27,
   "metadata": {},
   "outputs": [],
   "source": [
    "# 注入“脏数据”\n",
    "df.status_account = df.status_account.apply(add_str)"
   ]
  },
  {
   "cell_type": "code",
   "execution_count": 28,
   "metadata": {},
   "outputs": [
    {
     "data": {
      "text/plain": [
       "0       A11 \n",
       "1      A12/t\n",
       "2       A14$\n",
       "3      A11/t\n",
       "4       A11%\n",
       "       ...  \n",
       "995     A14 \n",
       "996    A11/t\n",
       "997    A14/t\n",
       "998     A11;\n",
       "999     A12;\n",
       "Name: status_account, Length: 1000, dtype: object"
      ]
     },
     "execution_count": 28,
     "metadata": {},
     "output_type": "execute_result"
    }
   ],
   "source": [
    "df.status_account"
   ]
  },
  {
   "cell_type": "code",
   "execution_count": 30,
   "metadata": {},
   "outputs": [],
   "source": [
    "def add_time(num, style='%Y-%m-%d'):\n",
    "    '''\n",
    "    添加num个格式为style的时间字符串\n",
    "    '''\n",
    "    # 生成时间戳\n",
    "    start_time = time.mktime((2010,1,1,0,0,0,0,0,0))\n",
    "    stop_time = time.mktime((2015,1,1,0,0,0,0,0,0))\n",
    "    re_time = []\n",
    "    \n",
    "    for i in range(num):\n",
    "        rand_time = np.random.randint(start_time, stop_time)\n",
    "        # 转成时间元组\n",
    "        date_touple = time.localtime(rand_time)\n",
    "        re_time.append(time.strftime(style, date_touple))\n",
    "        \n",
    "    return re_time"
   ]
  },
  {
   "cell_type": "code",
   "execution_count": 31,
   "metadata": {},
   "outputs": [],
   "source": [
    "# 添加两列时间格式的数据\n",
    "df['apply_time'] = add_time(df.shape[0], '%Y-%m-%d')\n",
    "df['job_time'] = add_time(df.shape[0], \"%Y/%m/%d %H:%M:%S\")"
   ]
  },
  {
   "cell_type": "code",
   "execution_count": 32,
   "metadata": {},
   "outputs": [
    {
     "data": {
      "text/plain": [
       "0      2014-08-28\n",
       "1      2013-05-09\n",
       "2      2014-11-16\n",
       "3      2012-06-03\n",
       "4      2012-11-21\n",
       "          ...    \n",
       "995    2013-09-08\n",
       "996    2011-12-17\n",
       "997    2011-12-12\n",
       "998    2012-04-26\n",
       "999    2012-06-25\n",
       "Name: apply_time, Length: 1000, dtype: object"
      ]
     },
     "execution_count": 32,
     "metadata": {},
     "output_type": "execute_result"
    }
   ],
   "source": [
    "df['apply_time']"
   ]
  },
  {
   "cell_type": "code",
   "execution_count": 33,
   "metadata": {},
   "outputs": [
    {
     "data": {
      "text/plain": [
       "0      2011/10/06 16:39:54\n",
       "1      2012/06/04 00:41:16\n",
       "2      2014/02/04 14:21:32\n",
       "3      2010/01/03 10:36:01\n",
       "4      2014/10/06 09:57:53\n",
       "              ...         \n",
       "995    2014/09/22 19:33:51\n",
       "996    2011/01/08 22:19:31\n",
       "997    2013/11/29 11:35:13\n",
       "998    2013/06/24 15:00:27\n",
       "999    2014/07/20 18:25:25\n",
       "Name: job_time, Length: 1000, dtype: object"
      ]
     },
     "execution_count": 33,
     "metadata": {},
     "output_type": "execute_result"
    }
   ],
   "source": [
    "df['job_time']"
   ]
  },
  {
   "cell_type": "code",
   "execution_count": 18,
   "metadata": {},
   "outputs": [],
   "source": [
    "def add_row(df_temp, num):\n",
    "    '''\n",
    "    从df_temp中随机取num行数据\n",
    "    '''\n",
    "    index_1 = np.random.randint(low=0,high=df_temp.shape[0]-1, size = num)\n",
    "    return df_temp.loc[index_1]"
   ]
  },
  {
   "cell_type": "code",
   "execution_count": 34,
   "metadata": {},
   "outputs": [],
   "source": [
    "# 添加冗余数据\n",
    "df_temp = add_row(df, 10)\n",
    "df = pd.concat([df, df_temp],axis=0,ignore_index=True)"
   ]
  },
  {
   "cell_type": "code",
   "execution_count": 35,
   "metadata": {},
   "outputs": [
    {
     "data": {
      "text/plain": [
       "(1010, 23)"
      ]
     },
     "execution_count": 35,
     "metadata": {},
     "output_type": "execute_result"
    }
   ],
   "source": [
    "df.shape"
   ]
  },
  {
   "cell_type": "markdown",
   "metadata": {},
   "source": [
    "### 数据清洗"
   ]
  },
  {
   "cell_type": "code",
   "execution_count": 36,
   "metadata": {},
   "outputs": [
    {
     "data": {
      "text/html": [
       "<div>\n",
       "<style scoped>\n",
       "    .dataframe tbody tr th:only-of-type {\n",
       "        vertical-align: middle;\n",
       "    }\n",
       "\n",
       "    .dataframe tbody tr th {\n",
       "        vertical-align: top;\n",
       "    }\n",
       "\n",
       "    .dataframe thead th {\n",
       "        text-align: right;\n",
       "    }\n",
       "</style>\n",
       "<table border=\"1\" class=\"dataframe\">\n",
       "  <thead>\n",
       "    <tr style=\"text-align: right;\">\n",
       "      <th></th>\n",
       "      <th>status_account</th>\n",
       "      <th>duration</th>\n",
       "      <th>credit_history</th>\n",
       "      <th>purpose</th>\n",
       "      <th>amount</th>\n",
       "      <th>...</th>\n",
       "      <th>telephone</th>\n",
       "      <th>foreign_worker</th>\n",
       "      <th>target</th>\n",
       "      <th>apply_time</th>\n",
       "      <th>job_time</th>\n",
       "    </tr>\n",
       "  </thead>\n",
       "  <tbody>\n",
       "    <tr>\n",
       "      <th>0</th>\n",
       "      <td>A11</td>\n",
       "      <td>6</td>\n",
       "      <td>A34</td>\n",
       "      <td>A43</td>\n",
       "      <td>1169</td>\n",
       "      <td>...</td>\n",
       "      <td>A192</td>\n",
       "      <td>A201</td>\n",
       "      <td>0</td>\n",
       "      <td>2014-08-28</td>\n",
       "      <td>2011/10/06 16:39:54</td>\n",
       "    </tr>\n",
       "    <tr>\n",
       "      <th>1</th>\n",
       "      <td>A12/t</td>\n",
       "      <td>48</td>\n",
       "      <td>A32</td>\n",
       "      <td>A43</td>\n",
       "      <td>5951</td>\n",
       "      <td>...</td>\n",
       "      <td>A191</td>\n",
       "      <td>A201</td>\n",
       "      <td>1</td>\n",
       "      <td>2013-05-09</td>\n",
       "      <td>2012/06/04 00:41:16</td>\n",
       "    </tr>\n",
       "    <tr>\n",
       "      <th>2</th>\n",
       "      <td>A14$</td>\n",
       "      <td>12</td>\n",
       "      <td>A34</td>\n",
       "      <td>A46</td>\n",
       "      <td>2096</td>\n",
       "      <td>...</td>\n",
       "      <td>A191</td>\n",
       "      <td>A201</td>\n",
       "      <td>0</td>\n",
       "      <td>2014-11-16</td>\n",
       "      <td>2014/02/04 14:21:32</td>\n",
       "    </tr>\n",
       "    <tr>\n",
       "      <th>3</th>\n",
       "      <td>A11/t</td>\n",
       "      <td>42</td>\n",
       "      <td>A32</td>\n",
       "      <td>A42</td>\n",
       "      <td>7882</td>\n",
       "      <td>...</td>\n",
       "      <td>A191</td>\n",
       "      <td>A201</td>\n",
       "      <td>0</td>\n",
       "      <td>2012-06-03</td>\n",
       "      <td>2010/01/03 10:36:01</td>\n",
       "    </tr>\n",
       "    <tr>\n",
       "      <th>4</th>\n",
       "      <td>A11%</td>\n",
       "      <td>24</td>\n",
       "      <td>A33</td>\n",
       "      <td>A40</td>\n",
       "      <td>4870</td>\n",
       "      <td>...</td>\n",
       "      <td>A191</td>\n",
       "      <td>A201</td>\n",
       "      <td>1</td>\n",
       "      <td>2012-11-21</td>\n",
       "      <td>2014/10/06 09:57:53</td>\n",
       "    </tr>\n",
       "  </tbody>\n",
       "</table>\n",
       "<p>5 rows × 23 columns</p>\n",
       "</div>"
      ],
      "text/plain": [
       "  status_account  duration credit_history purpose  amount  ... telephone  \\\n",
       "0           A11          6            A34     A43    1169  ...      A192   \n",
       "1          A12/t        48            A32     A43    5951  ...      A191   \n",
       "2           A14$        12            A34     A46    2096  ...      A191   \n",
       "3          A11/t        42            A32     A42    7882  ...      A191   \n",
       "4           A11%        24            A33     A40    4870  ...      A191   \n",
       "\n",
       "  foreign_worker  target  apply_time             job_time  \n",
       "0           A201       0  2014-08-28  2011/10/06 16:39:54  \n",
       "1           A201       1  2013-05-09  2012/06/04 00:41:16  \n",
       "2           A201       0  2014-11-16  2014/02/04 14:21:32  \n",
       "3           A201       0  2012-06-03  2010/01/03 10:36:01  \n",
       "4           A201       1  2012-11-21  2014/10/06 09:57:53  \n",
       "\n",
       "[5 rows x 23 columns]"
      ]
     },
     "execution_count": 36,
     "metadata": {},
     "output_type": "execute_result"
    }
   ],
   "source": [
    "# 设置head（）方法显示多列或者显示全部\n",
    "pd.set_option('display.max_columns', 10)\n",
    "df.head()"
   ]
  },
  {
   "cell_type": "code",
   "execution_count": 37,
   "metadata": {},
   "outputs": [
    {
     "data": {
      "text/html": [
       "<div>\n",
       "<style scoped>\n",
       "    .dataframe tbody tr th:only-of-type {\n",
       "        vertical-align: middle;\n",
       "    }\n",
       "\n",
       "    .dataframe tbody tr th {\n",
       "        vertical-align: top;\n",
       "    }\n",
       "\n",
       "    .dataframe thead th {\n",
       "        text-align: right;\n",
       "    }\n",
       "</style>\n",
       "<table border=\"1\" class=\"dataframe\">\n",
       "  <thead>\n",
       "    <tr style=\"text-align: right;\">\n",
       "      <th></th>\n",
       "      <th>status_account</th>\n",
       "      <th>duration</th>\n",
       "      <th>credit_history</th>\n",
       "      <th>purpose</th>\n",
       "      <th>amount</th>\n",
       "      <th>svaing_account</th>\n",
       "      <th>present_emp</th>\n",
       "      <th>income_rate</th>\n",
       "      <th>personal_status</th>\n",
       "      <th>other_debtors</th>\n",
       "      <th>residence_info</th>\n",
       "      <th>property</th>\n",
       "      <th>age</th>\n",
       "      <th>inst_plans</th>\n",
       "      <th>housing</th>\n",
       "      <th>num_credits</th>\n",
       "      <th>job</th>\n",
       "      <th>dependents</th>\n",
       "      <th>telephone</th>\n",
       "      <th>foreign_worker</th>\n",
       "      <th>target</th>\n",
       "      <th>apply_time</th>\n",
       "      <th>job_time</th>\n",
       "    </tr>\n",
       "  </thead>\n",
       "  <tbody>\n",
       "    <tr>\n",
       "      <th>0</th>\n",
       "      <td>A11</td>\n",
       "      <td>6</td>\n",
       "      <td>A34</td>\n",
       "      <td>A43</td>\n",
       "      <td>1169</td>\n",
       "      <td>A65</td>\n",
       "      <td>A75</td>\n",
       "      <td>4</td>\n",
       "      <td>A93</td>\n",
       "      <td>A101</td>\n",
       "      <td>4</td>\n",
       "      <td>A121</td>\n",
       "      <td>67</td>\n",
       "      <td>A143</td>\n",
       "      <td>A152</td>\n",
       "      <td>2</td>\n",
       "      <td>A173</td>\n",
       "      <td>1</td>\n",
       "      <td>A192</td>\n",
       "      <td>A201</td>\n",
       "      <td>0</td>\n",
       "      <td>2014-08-28</td>\n",
       "      <td>2011/10/06 16:39:54</td>\n",
       "    </tr>\n",
       "    <tr>\n",
       "      <th>1</th>\n",
       "      <td>A12/t</td>\n",
       "      <td>48</td>\n",
       "      <td>A32</td>\n",
       "      <td>A43</td>\n",
       "      <td>5951</td>\n",
       "      <td>A61</td>\n",
       "      <td>A73</td>\n",
       "      <td>2</td>\n",
       "      <td>A92</td>\n",
       "      <td>A101</td>\n",
       "      <td>2</td>\n",
       "      <td>A121</td>\n",
       "      <td>22</td>\n",
       "      <td>A143</td>\n",
       "      <td>A152</td>\n",
       "      <td>1</td>\n",
       "      <td>A173</td>\n",
       "      <td>1</td>\n",
       "      <td>A191</td>\n",
       "      <td>A201</td>\n",
       "      <td>1</td>\n",
       "      <td>2013-05-09</td>\n",
       "      <td>2012/06/04 00:41:16</td>\n",
       "    </tr>\n",
       "    <tr>\n",
       "      <th>2</th>\n",
       "      <td>A14$</td>\n",
       "      <td>12</td>\n",
       "      <td>A34</td>\n",
       "      <td>A46</td>\n",
       "      <td>2096</td>\n",
       "      <td>A61</td>\n",
       "      <td>A74</td>\n",
       "      <td>2</td>\n",
       "      <td>A93</td>\n",
       "      <td>A101</td>\n",
       "      <td>3</td>\n",
       "      <td>A121</td>\n",
       "      <td>49</td>\n",
       "      <td>A143</td>\n",
       "      <td>A152</td>\n",
       "      <td>1</td>\n",
       "      <td>A172</td>\n",
       "      <td>2</td>\n",
       "      <td>A191</td>\n",
       "      <td>A201</td>\n",
       "      <td>0</td>\n",
       "      <td>2014-11-16</td>\n",
       "      <td>2014/02/04 14:21:32</td>\n",
       "    </tr>\n",
       "    <tr>\n",
       "      <th>3</th>\n",
       "      <td>A11/t</td>\n",
       "      <td>42</td>\n",
       "      <td>A32</td>\n",
       "      <td>A42</td>\n",
       "      <td>7882</td>\n",
       "      <td>A61</td>\n",
       "      <td>A74</td>\n",
       "      <td>2</td>\n",
       "      <td>A93</td>\n",
       "      <td>A103</td>\n",
       "      <td>4</td>\n",
       "      <td>A122</td>\n",
       "      <td>45</td>\n",
       "      <td>A143</td>\n",
       "      <td>A153</td>\n",
       "      <td>1</td>\n",
       "      <td>A173</td>\n",
       "      <td>2</td>\n",
       "      <td>A191</td>\n",
       "      <td>A201</td>\n",
       "      <td>0</td>\n",
       "      <td>2012-06-03</td>\n",
       "      <td>2010/01/03 10:36:01</td>\n",
       "    </tr>\n",
       "    <tr>\n",
       "      <th>4</th>\n",
       "      <td>A11%</td>\n",
       "      <td>24</td>\n",
       "      <td>A33</td>\n",
       "      <td>A40</td>\n",
       "      <td>4870</td>\n",
       "      <td>A61</td>\n",
       "      <td>A73</td>\n",
       "      <td>3</td>\n",
       "      <td>A93</td>\n",
       "      <td>A101</td>\n",
       "      <td>4</td>\n",
       "      <td>A124</td>\n",
       "      <td>53</td>\n",
       "      <td>A143</td>\n",
       "      <td>A153</td>\n",
       "      <td>2</td>\n",
       "      <td>A173</td>\n",
       "      <td>2</td>\n",
       "      <td>A191</td>\n",
       "      <td>A201</td>\n",
       "      <td>1</td>\n",
       "      <td>2012-11-21</td>\n",
       "      <td>2014/10/06 09:57:53</td>\n",
       "    </tr>\n",
       "  </tbody>\n",
       "</table>\n",
       "</div>"
      ],
      "text/plain": [
       "  status_account  duration credit_history purpose  amount svaing_account  \\\n",
       "0           A11          6            A34     A43    1169            A65   \n",
       "1          A12/t        48            A32     A43    5951            A61   \n",
       "2           A14$        12            A34     A46    2096            A61   \n",
       "3          A11/t        42            A32     A42    7882            A61   \n",
       "4           A11%        24            A33     A40    4870            A61   \n",
       "\n",
       "  present_emp  income_rate personal_status other_debtors  residence_info  \\\n",
       "0         A75            4             A93          A101               4   \n",
       "1         A73            2             A92          A101               2   \n",
       "2         A74            2             A93          A101               3   \n",
       "3         A74            2             A93          A103               4   \n",
       "4         A73            3             A93          A101               4   \n",
       "\n",
       "  property  age inst_plans housing  num_credits   job  dependents telephone  \\\n",
       "0     A121   67       A143    A152            2  A173           1      A192   \n",
       "1     A121   22       A143    A152            1  A173           1      A191   \n",
       "2     A121   49       A143    A152            1  A172           2      A191   \n",
       "3     A122   45       A143    A153            1  A173           2      A191   \n",
       "4     A124   53       A143    A153            2  A173           2      A191   \n",
       "\n",
       "  foreign_worker  target  apply_time             job_time  \n",
       "0           A201       0  2014-08-28  2011/10/06 16:39:54  \n",
       "1           A201       1  2013-05-09  2012/06/04 00:41:16  \n",
       "2           A201       0  2014-11-16  2014/02/04 14:21:32  \n",
       "3           A201       0  2012-06-03  2010/01/03 10:36:01  \n",
       "4           A201       1  2012-11-21  2014/10/06 09:57:53  "
      ]
     },
     "execution_count": 37,
     "metadata": {},
     "output_type": "execute_result"
    }
   ],
   "source": [
    "pd.set_option('display.max_columns', None)\n",
    "df.head()"
   ]
  },
  {
   "cell_type": "code",
   "execution_count": 38,
   "metadata": {},
   "outputs": [
    {
     "data": {
      "text/plain": [
       "array(['A11 ', 'A12/t', 'A14$', 'A11/t', 'A11%', 'A14;', 'A14/t', 'A12;',\n",
       "       'A14 ', 'A12%', 'A12 ', 'A11$', 'A12$', 'A11;', 'A14%', 'A13 ',\n",
       "       'A13$', 'A13%', 'A13;', 'A13/t'], dtype=object)"
      ]
     },
     "execution_count": 38,
     "metadata": {},
     "output_type": "execute_result"
    }
   ],
   "source": [
    "# 离散变量看下范围\n",
    "df.status_account.unique()"
   ]
  },
  {
   "cell_type": "code",
   "execution_count": 39,
   "metadata": {},
   "outputs": [],
   "source": [
    "# 特殊字符清洗\n",
    "df.status_account = df.status_account.apply(lambda x: x.replace(' ','').replace('%','').replace('/t','').replace('$','').replace('@','').replace(';',''))"
   ]
  },
  {
   "cell_type": "code",
   "execution_count": 40,
   "metadata": {},
   "outputs": [
    {
     "data": {
      "text/plain": [
       "array(['A11', 'A12', 'A14', 'A13'], dtype=object)"
      ]
     },
     "execution_count": 40,
     "metadata": {},
     "output_type": "execute_result"
    }
   ],
   "source": [
    "df.status_account.unique()"
   ]
  },
  {
   "cell_type": "code",
   "execution_count": 54,
   "metadata": {},
   "outputs": [],
   "source": [
    "# 时间格式统一\n",
    "# 统一为'%Y-%m-%d'\n",
    "# df['job_time'] = df['job_time'].apply(lambda x:datetime.datetime.strptime( x, '%d/%m/%Y %H:%M:%S.%f))\n",
    "df['job_time'] = add_time(df.shape[0], '%Y-%m-%d')"
   ]
  },
  {
   "cell_type": "code",
   "execution_count": null,
   "metadata": {},
   "outputs": [],
   "source": [
    "df['apply_time'] = df['apply_time'].apply(lambda x:datetime.datetime.strptime( x, '%Y-%m-%d'))"
   ]
  },
  {
   "cell_type": "code",
   "execution_count": 50,
   "metadata": {},
   "outputs": [
    {
     "data": {
      "text/plain": [
       "0       2014-08-28\n",
       "1       2013-05-09\n",
       "2       2014-11-16\n",
       "3       2012-06-03\n",
       "4       2012-11-21\n",
       "           ...    \n",
       "1005    2012-06-23\n",
       "1006    2012-10-10\n",
       "1007    2010-10-02\n",
       "1008    2014-01-01\n",
       "1009    2010-03-20\n",
       "Name: apply_time, Length: 1010, dtype: object"
      ]
     },
     "execution_count": 50,
     "metadata": {},
     "output_type": "execute_result"
    }
   ],
   "source": [
    "df['apply_time']"
   ]
  },
  {
   "cell_type": "code",
   "execution_count": 57,
   "metadata": {},
   "outputs": [],
   "source": [
    "# 样本去冗余\n",
    "df.drop_duplicates(subset=None, keep='first',inplace=True)"
   ]
  },
  {
   "cell_type": "code",
   "execution_count": 58,
   "metadata": {},
   "outputs": [
    {
     "data": {
      "text/plain": [
       "(1010, 23)"
      ]
     },
     "execution_count": 58,
     "metadata": {},
     "output_type": "execute_result"
    }
   ],
   "source": [
    "df.shape"
   ]
  },
  {
   "cell_type": "code",
   "execution_count": 59,
   "metadata": {},
   "outputs": [],
   "source": [
    "# 按照订单去冗余\n",
    "df['order_id'] = np.random.randint(low=0,high=df.shape[0]-1,size=df.shape[0])\n",
    "df.drop_duplicates(subset=['order_id'],keep='first',inplace=True)"
   ]
  },
  {
   "cell_type": "code",
   "execution_count": 60,
   "metadata": {},
   "outputs": [
    {
     "data": {
      "text/plain": [
       "(640, 24)"
      ]
     },
     "execution_count": 60,
     "metadata": {},
     "output_type": "execute_result"
    }
   ],
   "source": [
    "df.shape"
   ]
  },
  {
   "cell_type": "markdown",
   "metadata": {},
   "source": [
    "### 探索性数据分析"
   ]
  },
  {
   "cell_type": "code",
   "execution_count": 63,
   "metadata": {},
   "outputs": [
    {
     "data": {
      "text/html": [
       "<div>\n",
       "<style scoped>\n",
       "    .dataframe tbody tr th:only-of-type {\n",
       "        vertical-align: middle;\n",
       "    }\n",
       "\n",
       "    .dataframe tbody tr th {\n",
       "        vertical-align: top;\n",
       "    }\n",
       "\n",
       "    .dataframe thead th {\n",
       "        text-align: right;\n",
       "    }\n",
       "</style>\n",
       "<table border=\"1\" class=\"dataframe\">\n",
       "  <thead>\n",
       "    <tr style=\"text-align: right;\">\n",
       "      <th></th>\n",
       "      <th>duration</th>\n",
       "      <th>amount</th>\n",
       "      <th>income_rate</th>\n",
       "      <th>residence_info</th>\n",
       "      <th>age</th>\n",
       "      <th>num_credits</th>\n",
       "      <th>dependents</th>\n",
       "    </tr>\n",
       "  </thead>\n",
       "  <tbody>\n",
       "    <tr>\n",
       "      <th>count</th>\n",
       "      <td>640.000000</td>\n",
       "      <td>640.000000</td>\n",
       "      <td>640.000000</td>\n",
       "      <td>640.000000</td>\n",
       "      <td>640.000000</td>\n",
       "      <td>640.000000</td>\n",
       "      <td>640.00000</td>\n",
       "    </tr>\n",
       "    <tr>\n",
       "      <th>mean</th>\n",
       "      <td>21.100000</td>\n",
       "      <td>3316.051562</td>\n",
       "      <td>2.956250</td>\n",
       "      <td>2.815625</td>\n",
       "      <td>35.364063</td>\n",
       "      <td>1.401563</td>\n",
       "      <td>1.14375</td>\n",
       "    </tr>\n",
       "    <tr>\n",
       "      <th>std</th>\n",
       "      <td>12.304662</td>\n",
       "      <td>2880.343871</td>\n",
       "      <td>1.122243</td>\n",
       "      <td>1.114876</td>\n",
       "      <td>11.596514</td>\n",
       "      <td>0.575720</td>\n",
       "      <td>0.35111</td>\n",
       "    </tr>\n",
       "    <tr>\n",
       "      <th>min</th>\n",
       "      <td>4.000000</td>\n",
       "      <td>276.000000</td>\n",
       "      <td>1.000000</td>\n",
       "      <td>1.000000</td>\n",
       "      <td>19.000000</td>\n",
       "      <td>1.000000</td>\n",
       "      <td>1.00000</td>\n",
       "    </tr>\n",
       "    <tr>\n",
       "      <th>25%</th>\n",
       "      <td>12.000000</td>\n",
       "      <td>1364.000000</td>\n",
       "      <td>2.000000</td>\n",
       "      <td>2.000000</td>\n",
       "      <td>26.000000</td>\n",
       "      <td>1.000000</td>\n",
       "      <td>1.00000</td>\n",
       "    </tr>\n",
       "    <tr>\n",
       "      <th>50%</th>\n",
       "      <td>18.000000</td>\n",
       "      <td>2300.000000</td>\n",
       "      <td>3.000000</td>\n",
       "      <td>3.000000</td>\n",
       "      <td>32.000000</td>\n",
       "      <td>1.000000</td>\n",
       "      <td>1.00000</td>\n",
       "    </tr>\n",
       "    <tr>\n",
       "      <th>75%</th>\n",
       "      <td>24.000000</td>\n",
       "      <td>4179.250000</td>\n",
       "      <td>4.000000</td>\n",
       "      <td>4.000000</td>\n",
       "      <td>42.000000</td>\n",
       "      <td>2.000000</td>\n",
       "      <td>1.00000</td>\n",
       "    </tr>\n",
       "    <tr>\n",
       "      <th>max</th>\n",
       "      <td>60.000000</td>\n",
       "      <td>15945.000000</td>\n",
       "      <td>4.000000</td>\n",
       "      <td>4.000000</td>\n",
       "      <td>75.000000</td>\n",
       "      <td>4.000000</td>\n",
       "      <td>2.00000</td>\n",
       "    </tr>\n",
       "  </tbody>\n",
       "</table>\n",
       "</div>"
      ],
      "text/plain": [
       "         duration        amount  income_rate  residence_info         age  \\\n",
       "count  640.000000    640.000000   640.000000      640.000000  640.000000   \n",
       "mean    21.100000   3316.051562     2.956250        2.815625   35.364063   \n",
       "std     12.304662   2880.343871     1.122243        1.114876   11.596514   \n",
       "min      4.000000    276.000000     1.000000        1.000000   19.000000   \n",
       "25%     12.000000   1364.000000     2.000000        2.000000   26.000000   \n",
       "50%     18.000000   2300.000000     3.000000        3.000000   32.000000   \n",
       "75%     24.000000   4179.250000     4.000000        4.000000   42.000000   \n",
       "max     60.000000  15945.000000     4.000000        4.000000   75.000000   \n",
       "\n",
       "       num_credits  dependents  \n",
       "count   640.000000   640.00000  \n",
       "mean      1.401563     1.14375  \n",
       "std       0.575720     0.35111  \n",
       "min       1.000000     1.00000  \n",
       "25%       1.000000     1.00000  \n",
       "50%       1.000000     1.00000  \n",
       "75%       2.000000     1.00000  \n",
       "max       4.000000     2.00000  "
      ]
     },
     "execution_count": 63,
     "metadata": {},
     "output_type": "execute_result"
    }
   ],
   "source": [
    "df[numerical_var].describe()"
   ]
  },
  {
   "cell_type": "code",
   "execution_count": 65,
   "metadata": {},
   "outputs": [],
   "source": [
    "df.reset_index(drop=True, inplace=True)"
   ]
  },
  {
   "cell_type": "code",
   "execution_count": 66,
   "metadata": {},
   "outputs": [],
   "source": [
    "var_name = categorical_var + numerical_var"
   ]
  },
  {
   "cell_type": "code",
   "execution_count": 67,
   "metadata": {},
   "outputs": [],
   "source": [
    "for i in var_name:\n",
    "    num = np.random.randint(low=0,high = df.shape[0]-1)\n",
    "    index_1 = np.random.randint(low = 0, high = df.shape[0] - 1, size=num)\n",
    "    index_1 = np.unique(index_1)\n",
    "    df[i].loc[index_1] = np.nan"
   ]
  },
  {
   "cell_type": "code",
   "execution_count": 68,
   "metadata": {},
   "outputs": [
    {
     "data": {
      "text/plain": [
       "<matplotlib.axes._subplots.AxesSubplot at 0x282bd773f40>"
      ]
     },
     "execution_count": 68,
     "metadata": {},
     "output_type": "execute_result"
    },
    {
     "data": {
      "image/png": "[encoded data removed]",
      "text/plain": [
       "<Figure size 720x432 with 3 Axes>"
      ]
     },
     "metadata": {
      "needs_background": "light"
     },
     "output_type": "display_data"
    }
   ],
   "source": [
    "# 缺失值绘图\n",
    "msno.bar(df, labels=True, figsize=(10,6),fontsize=10)"
   ]
  },
  {
   "cell_type": "code",
   "execution_count": 70,
   "metadata": {},
   "outputs": [
    {
     "data": {
      "image/png": "[encoded data removed]",
      "text/plain": [
       "<Figure size 720x432 with 1 Axes>"
      ]
     },
     "metadata": {
      "needs_background": "light"
     },
     "output_type": "display_data"
    },
    {
     "data": {
      "image/png": "[encoded data removed]",
      "text/plain": [
       "<Figure size 432x288 with 1 Axes>"
      ]
     },
     "metadata": {
      "needs_background": "light"
     },
     "output_type": "display_data"
    },
    {
     "data": {
      "image/png": "[encoded data removed]",
      "text/plain": [
       "<Figure size 432x288 with 1 Axes>"
      ]
     },
     "metadata": {
      "needs_background": "light"
     },
     "output_type": "display_data"
    },
    {
     "data": {
      "image/png": "[encoded data removed]",
      "text/plain": [
       "<Figure size 432x288 with 1 Axes>"
      ]
     },
     "metadata": {
      "needs_background": "light"
     },
     "output_type": "display_data"
    },
    {
     "data": {
      "image/png": "[encoded data removed]",
      "text/plain": [
       "<Figure size 432x288 with 1 Axes>"
      ]
     },
     "metadata": {
      "needs_background": "light"
     },
     "output_type": "display_data"
    },
    {
     "data": {
      "image/png": "[encoded data removed]",
      "text/plain": [
       "<Figure size 432x288 with 1 Axes>"
      ]
     },
     "metadata": {
      "needs_background": "light"
     },
     "output_type": "display_data"
    },
    {
     "data": {
      "image/png": "[encoded data removed]",
      "text/plain": [
       "<Figure size 432x288 with 1 Axes>"
      ]
     },
     "metadata": {
      "needs_background": "light"
     },
     "output_type": "display_data"
    }
   ],
   "source": [
    "#对于连续数据绘制箱线图，观察是否有异常值 \n",
    "plt.figure(figsize=(10,6)) # 设置图形尺寸大小\n",
    "for j in range(1, len(numerical_var)+1):\n",
    "    plt.subplot(2,4,j)\n",
    "    df_temp = df[numerical_var[j-1]][~df[numerical_var[j-1]].isnull()]\n",
    "    plt.boxplot(df_temp\n",
    "                ,notch = False # 中位线处不设置凹陷\n",
    "                ,widths=0.2    # 设置箱体宽度\n",
    "                ,medianprops={'color':'red'}  # 中位线设置为红色\n",
    "                ,boxprops=dict(color=\"blue\")  # 箱体边框设置为蓝色\n",
    "                ,labels=[numerical_var[j-1]]  # 设置标签\n",
    "                ,whiskerprops={'color':'black'} # 设置须的颜色，黑色\n",
    "                ,capprops={'color':'green'}     # 设置箱线图顶端和末端横线的属性，颜色为绿色\n",
    "                ,flierprops={'color':'purple','markeredgecolor':'purple'} # 异常值属性\n",
    "               )\n",
    "    plt.show()"
   ]
  },
  {
   "cell_type": "markdown",
   "metadata": {},
   "source": [
    "### 查看数据分布"
   ]
  },
  {
   "cell_type": "code",
   "execution_count": 72,
   "metadata": {},
   "outputs": [],
   "source": [
    "# 连续变量不同类别下的分布\n",
    "for i in numerical_var:\n",
    "    df_temp = df.loc[~df[i].isnull(),[i,'target']] # 第一个为条件，第二个为要取的列\n",
    "    df_good = df_temp[df_temp.target == 0]\n",
    "    df_bad = df_temp[df_temp.target == 1]\n",
    "    # 计算统计量\n",
    "    valid = round(df_temp.shape[0] / df.shape[0]*100,2)\n",
    "    Mean = round(df_temp[i].mean(),2)\n",
    "    Std = round(df_temp[i].std(), 2)\n",
    "    Max = round(df_temp[i].max(), 2)\n",
    "    Min = round(df_temp[i].min(), 2)\n",
    "    \n",
    "    # 绘图\n",
    "    plt.figure(figsize=(10,6))\n",
    "    fontsize_1 = 12\n",
    "    plt.hist(df_good[i], bins=20, alpha=0.5,label='好样本')\n",
    "    plt.hist(df_bad[i], bins=20, alpha=0.5, label='坏样本')\n",
    "    plt.ylabel(i, fontsize=fontsize_1)\n",
    "    plt.title(f'valid={valid},Mean={Mean},Std={Std},Max={Max},Min={Min}')\n",
    "    plt.legend()\n",
    "    file = f\"{i}.png\"\n",
    "    plt.savefig(file)\n",
    "    plt.close(1)"
   ]
  },
  {
   "cell_type": "code",
   "execution_count": 76,
   "metadata": {},
   "outputs": [],
   "source": [
    "# 离散变量不同类别下的分布\n",
    "for i in categorical_var:\n",
    "    df_temp = df.loc[~df[i].isnull(),[i,'target']]\n",
    "    df_bad = df_temp[df_temp.target == 1]\n",
    "    valid = round(df_temp.shape[0] / df.shape[0] * 100, 2)\n",
    "    \n",
    "    bad_rate = []\n",
    "    bin_rate = []\n",
    "    var_name = []\n",
    "    \n",
    "    for j in df[i].unique():\n",
    "        if pd.isnull(j):\n",
    "            df_1 = df[df[i].isnull()]\n",
    "            bad_rate.append(sum(df_1.target) / df_1.shape[0])\n",
    "            bin_rate.append(df_1.shape[0] / df.shape[0])\n",
    "            var_name.append('NA')\n",
    "        else:\n",
    "            df_1 = df[df[i] == j]\n",
    "            bad_rate.append(sum(df_1.target) / df_1.shape[0])\n",
    "            bin_rate.append(df_1.shape[0] / df.shape[0])\n",
    "            var_name.append(j)\n",
    "            \n",
    "    df_2 = pd.DataFrame({'var_name':var_name, 'bin_rate':bin_rate,'bad_rate':bad_rate})\n",
    "    plt.figure(figsize=(10,6))        \n",
    "    fontsize_1 = 12\n",
    "    plt.bar(np.arange(1,df_2.shape[0]+1),df_2.bin_rate,0.1,color='black',alpha=0.5,label='占比')\n",
    "    plt.xticks(np.arange(1,df_2.shape[0]+1),df_2.var_name)\n",
    "    plt.plot(np.arange(1,df_2.shape[0]+1),df_2.bad_rate,color='green',alpha=0.5,label='坏样本率')\n",
    "    plt.ylabel(i,fontsize=fontsize_1)\n",
    "    plt.title(f'valid rate={valid}%')\n",
    "    plt.legend()\n",
    "    file = f\"{i}.png\"\n",
    "    plt.savefig(file)\n",
    "    plt.close(1)"
   ]
  },
  {
   "cell_type": "code",
   "execution_count": null,
   "metadata": {},
   "outputs": [],
   "source": []
  }
 ],
 "metadata": {
  "kernelspec": {
   "display_name": "Python 3",
   "language": "python",
   "name": "python3"
  },
  "language_info": {
   "codemirror_mode": {
    "name": "ipython",
    "version": 3
   },
   "file_extension": ".py",
   "mimetype": "text/x-python",
   "name": "python",
   "nbconvert_exporter": "python",
   "pygments_lexer": "ipython3",
   "version": "3.8.3"
  }
 },
 "nbformat": 4,
 "nbformat_minor": 4
}
